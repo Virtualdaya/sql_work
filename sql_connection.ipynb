{
 "cells": [
  {
   "cell_type": "code",
   "execution_count": 1,
   "id": "e6f6329a-f2c2-4f6f-8928-bcf4760b1145",
   "metadata": {},
   "outputs": [],
   "source": [
    "import pandas as pd\n",
    "import duckdb\n",
    "import pymysql\n",
    "from sqlalchemy import create_engine"
   ]
  },
  {
   "cell_type": "code",
   "execution_count": 2,
   "id": "159dfd79-3a6a-4c12-b16f-3f7065e15397",
   "metadata": {},
   "outputs": [],
   "source": [
    "user = 'root'\n",
    "password = 'Anusha21'\n",
    "host = 'localhost'\n",
    "port = 3306\n",
    "database = 'sales'"
   ]
  },
  {
   "cell_type": "code",
   "execution_count": 3,
   "id": "de7913fd-f6cf-4fb4-9f78-be3a70e49554",
   "metadata": {},
   "outputs": [],
   "source": [
    "def get_connection():\n",
    "    return create_engine(\n",
    "        url=\"mysql+pymysql://{0}:{1}@{2}:{3}/{4}\".format(\n",
    "            user, password, host, port, database\n",
    "        )\n",
    "    )"
   ]
  },
  {
   "cell_type": "code",
   "execution_count": 4,
   "id": "46594b5a-0945-4b83-b9ad-cf73e52f95bd",
   "metadata": {},
   "outputs": [],
   "source": [
    "\n",
    "engine = get_connection()\n",
    "conn_alchemy=engine.connect()\n",
    "con=duckdb.connect()"
   ]
  },
  {
   "cell_type": "code",
   "execution_count": 5,
   "id": "49f5817b-2853-4ef8-b2a0-f11c02fcfdd4",
   "metadata": {},
   "outputs": [
    {
     "data": {
      "text/html": [
       "<div>\n",
       "<style scoped>\n",
       "    .dataframe tbody tr th:only-of-type {\n",
       "        vertical-align: middle;\n",
       "    }\n",
       "\n",
       "    .dataframe tbody tr th {\n",
       "        vertical-align: top;\n",
       "    }\n",
       "\n",
       "    .dataframe thead th {\n",
       "        text-align: right;\n",
       "    }\n",
       "</style>\n",
       "<table border=\"1\" class=\"dataframe\">\n",
       "  <thead>\n",
       "    <tr style=\"text-align: right;\">\n",
       "      <th></th>\n",
       "      <th>CustomerID</th>\n",
       "      <th>FirstName</th>\n",
       "      <th>LastName</th>\n",
       "      <th>Address</th>\n",
       "      <th>City</th>\n",
       "    </tr>\n",
       "  </thead>\n",
       "  <tbody>\n",
       "    <tr>\n",
       "      <th>0</th>\n",
       "      <td>R2001</td>\n",
       "      <td>Sudhanshu</td>\n",
       "      <td>Sharma</td>\n",
       "      <td>12, MG Road, Sector 49</td>\n",
       "      <td>Noida</td>\n",
       "    </tr>\n",
       "    <tr>\n",
       "      <th>1</th>\n",
       "      <td>R2002</td>\n",
       "      <td>Kapil</td>\n",
       "      <td>Khanna</td>\n",
       "      <td>12/5, RR Marg, Bandra</td>\n",
       "      <td>Mumbai</td>\n",
       "    </tr>\n",
       "    <tr>\n",
       "      <th>2</th>\n",
       "      <td>R2003</td>\n",
       "      <td>Megha</td>\n",
       "      <td>Raj</td>\n",
       "      <td>12, T Nagar</td>\n",
       "      <td>Chennai</td>\n",
       "    </tr>\n",
       "    <tr>\n",
       "      <th>3</th>\n",
       "      <td>R2004</td>\n",
       "      <td>David</td>\n",
       "      <td>John</td>\n",
       "      <td>24, George Nagar</td>\n",
       "      <td>Hyderabad</td>\n",
       "    </tr>\n",
       "    <tr>\n",
       "      <th>4</th>\n",
       "      <td>R2005</td>\n",
       "      <td>William</td>\n",
       "      <td>James</td>\n",
       "      <td>6, Rao Street</td>\n",
       "      <td>Kolkotta</td>\n",
       "    </tr>\n",
       "    <tr>\n",
       "      <th>...</th>\n",
       "      <td>...</td>\n",
       "      <td>...</td>\n",
       "      <td>...</td>\n",
       "      <td>...</td>\n",
       "      <td>...</td>\n",
       "    </tr>\n",
       "    <tr>\n",
       "      <th>69</th>\n",
       "      <td>R2070</td>\n",
       "      <td>Raj</td>\n",
       "      <td>Sharma</td>\n",
       "      <td>7, EM Road</td>\n",
       "      <td>Mysore</td>\n",
       "    </tr>\n",
       "    <tr>\n",
       "      <th>70</th>\n",
       "      <td>R2071</td>\n",
       "      <td>Daniel</td>\n",
       "      <td>Jacob</td>\n",
       "      <td>3 c, Ram Marg</td>\n",
       "      <td>Gandhinagar</td>\n",
       "    </tr>\n",
       "    <tr>\n",
       "      <th>71</th>\n",
       "      <td>R2072</td>\n",
       "      <td>Reema</td>\n",
       "      <td>Gupta</td>\n",
       "      <td>1/14, BB Complex</td>\n",
       "      <td>Patna</td>\n",
       "    </tr>\n",
       "    <tr>\n",
       "      <th>72</th>\n",
       "      <td>R2073</td>\n",
       "      <td>Roshan</td>\n",
       "      <td>Rai</td>\n",
       "      <td>12, Pacific Avenue</td>\n",
       "      <td>Bangalore</td>\n",
       "    </tr>\n",
       "    <tr>\n",
       "      <th>73</th>\n",
       "      <td>R2074</td>\n",
       "      <td>Radhika</td>\n",
       "      <td>Sharma</td>\n",
       "      <td>Flat 12, Block 2</td>\n",
       "      <td>Kochi</td>\n",
       "    </tr>\n",
       "  </tbody>\n",
       "</table>\n",
       "<p>74 rows × 5 columns</p>\n",
       "</div>"
      ],
      "text/plain": [
       "   CustomerID  FirstName LastName                 Address         City\n",
       "0       R2001  Sudhanshu   Sharma  12, MG Road, Sector 49        Noida\n",
       "1       R2002      Kapil   Khanna   12/5, RR Marg, Bandra       Mumbai\n",
       "2       R2003      Megha      Raj             12, T Nagar      Chennai\n",
       "3       R2004      David     John        24, George Nagar    Hyderabad\n",
       "4       R2005    William    James           6, Rao Street     Kolkotta\n",
       "..        ...        ...      ...                     ...          ...\n",
       "69      R2070        Raj   Sharma              7, EM Road       Mysore\n",
       "70      R2071     Daniel    Jacob           3 c, Ram Marg  Gandhinagar\n",
       "71      R2072      Reema    Gupta        1/14, BB Complex        Patna\n",
       "72      R2073     Roshan      Rai      12, Pacific Avenue    Bangalore\n",
       "73      R2074    Radhika   Sharma        Flat 12, Block 2        Kochi\n",
       "\n",
       "[74 rows x 5 columns]"
      ]
     },
     "execution_count": 5,
     "metadata": {},
     "output_type": "execute_result"
    }
   ],
   "source": [
    "\n",
    "df01 =pd.read_sql(\"SELECT * FROM sales.address\",conn_alchemy)\n",
    "df01"
   ]
  },
  {
   "cell_type": "code",
   "execution_count": 6,
   "id": "f3255a2f-e619-4507-bf8c-d0619b7112ad",
   "metadata": {},
   "outputs": [],
   "source": [
    "df02 = pd.read_sql(\"SELECT * FROM sales.orders\",conn_alchemy)"
   ]
  },
  {
   "cell_type": "code",
   "execution_count": 7,
   "id": "742fb6a3-0826-4616-9a83-686c2b64adad",
   "metadata": {},
   "outputs": [
    {
     "data": {
      "text/html": [
       "<div>\n",
       "<style scoped>\n",
       "    .dataframe tbody tr th:only-of-type {\n",
       "        vertical-align: middle;\n",
       "    }\n",
       "\n",
       "    .dataframe tbody tr th {\n",
       "        vertical-align: top;\n",
       "    }\n",
       "\n",
       "    .dataframe thead th {\n",
       "        text-align: right;\n",
       "    }\n",
       "</style>\n",
       "<table border=\"1\" class=\"dataframe\">\n",
       "  <thead>\n",
       "    <tr style=\"text-align: right;\">\n",
       "      <th></th>\n",
       "      <th>CustomerID</th>\n",
       "      <th>TypeOfOrder</th>\n",
       "      <th>OrderAmount</th>\n",
       "      <th>OrderDate</th>\n",
       "      <th>DeliveryDate</th>\n",
       "    </tr>\n",
       "  </thead>\n",
       "  <tbody>\n",
       "    <tr>\n",
       "      <th>0</th>\n",
       "      <td>R2001</td>\n",
       "      <td>Retail</td>\n",
       "      <td>3000000</td>\n",
       "      <td>2022-04-03</td>\n",
       "      <td>2022-04-03</td>\n",
       "    </tr>\n",
       "    <tr>\n",
       "      <th>1</th>\n",
       "      <td>R2002</td>\n",
       "      <td>Wholesale</td>\n",
       "      <td>30000000</td>\n",
       "      <td>2022-02-01</td>\n",
       "      <td>2022-02-01</td>\n",
       "    </tr>\n",
       "    <tr>\n",
       "      <th>2</th>\n",
       "      <td>R2003</td>\n",
       "      <td>Overseas</td>\n",
       "      <td>200000</td>\n",
       "      <td>2022-04-03</td>\n",
       "      <td>2022-04-05</td>\n",
       "    </tr>\n",
       "    <tr>\n",
       "      <th>3</th>\n",
       "      <td>R2004</td>\n",
       "      <td>Wholesale</td>\n",
       "      <td>50000000</td>\n",
       "      <td>2022-04-02</td>\n",
       "      <td>2022-04-06</td>\n",
       "    </tr>\n",
       "    <tr>\n",
       "      <th>4</th>\n",
       "      <td>R2005</td>\n",
       "      <td>Retail</td>\n",
       "      <td>4000000</td>\n",
       "      <td>2022-02-02</td>\n",
       "      <td>2022-02-02</td>\n",
       "    </tr>\n",
       "  </tbody>\n",
       "</table>\n",
       "</div>"
      ],
      "text/plain": [
       "  CustomerID TypeOfOrder  OrderAmount   OrderDate DeliveryDate\n",
       "0      R2001      Retail      3000000  2022-04-03   2022-04-03\n",
       "1      R2002   Wholesale     30000000  2022-02-01   2022-02-01\n",
       "2      R2003    Overseas       200000  2022-04-03   2022-04-05\n",
       "3      R2004   Wholesale     50000000  2022-04-02   2022-04-06\n",
       "4      R2005      Retail      4000000  2022-02-02   2022-02-02"
      ]
     },
     "execution_count": 7,
     "metadata": {},
     "output_type": "execute_result"
    }
   ],
   "source": [
    "df02.head()"
   ]
  },
  {
   "cell_type": "code",
   "execution_count": 8,
   "id": "311d2ad7-686e-4f55-915a-5a583c651196",
   "metadata": {},
   "outputs": [
    {
     "data": {
      "text/plain": [
       "<duckdb.duckdb.DuckDBPyConnection at 0x1c9a79004f0>"
      ]
     },
     "execution_count": 8,
     "metadata": {},
     "output_type": "execute_result"
    }
   ],
   "source": [
    "con.register('address',df01)\n",
    "con.register('orders',df02)"
   ]
  },
  {
   "cell_type": "markdown",
   "id": "907e5fde-3d21-4109-90a6-41b6648b5709",
   "metadata": {},
   "source": [
    "QUERY-1"
   ]
  },
  {
   "cell_type": "code",
   "execution_count": 9,
   "id": "bd607e04-3277-432d-9b03-d8543f22c98b",
   "metadata": {},
   "outputs": [
    {
     "data": {
      "text/plain": [
       "┌────────────┬─────────────┬──────────────┐\n",
       "│ WeekNumber │ TypeOfOrder │ SalesRevenue │\n",
       "│   int64    │   varchar   │    int128    │\n",
       "├────────────┼─────────────┼──────────────┤\n",
       "│         17 │ Wholesale   │     90000000 │\n",
       "│          7 │ Retail      │       200000 │\n",
       "│         11 │ Wholesale   │       200000 │\n",
       "│         16 │ Overseas    │      4000000 │\n",
       "│          8 │ Retail      │      4000000 │\n",
       "│         23 │ Overseas    │    160000000 │\n",
       "│         21 │ Overseas    │      6000000 │\n",
       "│          6 │ Overseas    │     80000000 │\n",
       "│         28 │ Overseas    │     60000000 │\n",
       "│         13 │ Wholesale   │    150000000 │\n",
       "│          · │     ·       │          ·   │\n",
       "│          · │     ·       │          ·   │\n",
       "│          · │     ·       │          ·   │\n",
       "│         32 │ Wholesale   │       400000 │\n",
       "│         38 │ Wholesale   │      3000000 │\n",
       "│         13 │ Overseas    │       200000 │\n",
       "│         15 │ Overseas    │     80000000 │\n",
       "│         18 │ Retail      │        20000 │\n",
       "│         20 │ Wholesale   │       600000 │\n",
       "│         30 │ Overseas    │     60000000 │\n",
       "│         25 │ Retail      │       400000 │\n",
       "│         14 │ Overseas    │     90000000 │\n",
       "│         29 │ Wholesale   │      7000000 │\n",
       "├────────────┴─────────────┴──────────────┤\n",
       "│ 37 rows (20 shown)            3 columns │\n",
       "└─────────────────────────────────────────┘"
      ]
     },
     "execution_count": 9,
     "metadata": {},
     "output_type": "execute_result"
    }
   ],
   "source": [
    "df1=con.sql(\"\"\"SELECT week(OrderDate) AS WeekNumber,TypeofOrder,\n",
    "Sum(OrderAmount) as SalesRevenue FROM orders\n",
    "GROUP BY week(OrderDate) ,TypeOfOrder;\"\"\")\n",
    "df1"
   ]
  },
  {
   "cell_type": "markdown",
   "id": "404d1899-b98e-4f63-84de-4f9516239afd",
   "metadata": {},
   "source": [
    "QUERY-2"
   ]
  },
  {
   "cell_type": "code",
   "execution_count": 10,
   "id": "28dad28c-22e7-4655-9ab7-c600e2a04b9e",
   "metadata": {},
   "outputs": [
    {
     "data": {
      "text/plain": [
       "┌─────────┬──────────────────┐\n",
       "│  City   │ TotalRetailSales │\n",
       "│ varchar │      int128      │\n",
       "├─────────┼──────────────────┤\n",
       "│ Kochi   │          4300000 │\n",
       "└─────────┴──────────────────┘"
      ]
     },
     "execution_count": 10,
     "metadata": {},
     "output_type": "execute_result"
    }
   ],
   "source": [
    "df2 = con.sql(\"\"\"SELECT address.city,sum(OrderAmount) AS TotalRetailSales FROM orders\n",
    "RIGHT JOIN address\n",
    "ON orders.CustomerID = address.CustomerID\n",
    "WHERE orders.TypeOfOrder = 'Retail'\n",
    "GROUP BY address.City\n",
    "ORDER BY TotalRetailSales DESC LIMIT 1;\"\"\")\n",
    "df2"
   ]
  },
  {
   "cell_type": "markdown",
   "id": "c6bbd6ed-3c0d-44b7-b78d-8ef858a07f99",
   "metadata": {},
   "source": [
    "QUERY-3"
   ]
  },
  {
   "cell_type": "code",
   "execution_count": 11,
   "id": "7e0e4bd6-8b76-4029-8c02-e3d5d1b2f0be",
   "metadata": {},
   "outputs": [
    {
     "data": {
      "text/plain": [
       "┌─────────┬─────────────────┐\n",
       "│  City   │ TotalWholeSales │\n",
       "│ varchar │     int128      │\n",
       "├─────────┼─────────────────┤\n",
       "│ Jaipur  │          400000 │\n",
       "└─────────┴─────────────────┘"
      ]
     },
     "execution_count": 11,
     "metadata": {},
     "output_type": "execute_result"
    }
   ],
   "source": [
    "df3=con.sql(\"\"\"SELECT address.city,sum(OrderAmount) AS TotalWholeSales FROM orders\n",
    "RIGHT JOIN address\n",
    "ON orders.CustomerID = address.CustomerID\n",
    "WHERE orders.TypeOfOrder = 'Wholesale'\n",
    "GROUP BY address.City\n",
    "ORDER BY TotalWholeSales ASC LIMIT 1;\"\"\")\n",
    "df3"
   ]
  },
  {
   "cell_type": "markdown",
   "id": "865cf9e8-b86c-4885-ba73-9271640c7a42",
   "metadata": {},
   "source": [
    "QUERY-4"
   ]
  },
  {
   "cell_type": "code",
   "execution_count": 12,
   "id": "7ed50a6a-02fc-4457-8aa0-9bfc339a2981",
   "metadata": {},
   "outputs": [
    {
     "data": {
      "text/plain": [
       "┌────────────┐\n",
       "│ OrderDate  │\n",
       "│    date    │\n",
       "├────────────┤\n",
       "│ 2022-02-02 │\n",
       "└────────────┘"
      ]
     },
     "execution_count": 12,
     "metadata": {},
     "output_type": "execute_result"
    }
   ],
   "source": [
    "df4 = con.sql(\"\"\"SELECT A.OrderDate FROM\n",
    "            (SELECT OrderDate,sum(OrderAmount) AS DaySales FROM orders\n",
    "\t\t\tGROUP BY OrderDate\n",
    "\t\t\tORDER BY DaySales DESC LIMIT 1) AS A;\"\"\")\n",
    "df4"
   ]
  },
  {
   "cell_type": "markdown",
   "id": "b4a2991a-b587-43a3-b623-9d24399cce75",
   "metadata": {},
   "source": [
    "QUERY-5"
   ]
  },
  {
   "cell_type": "code",
   "execution_count": 13,
   "id": "37e3019c-8adf-415b-b6b9-d516f2e64655",
   "metadata": {},
   "outputs": [
    {
     "data": {
      "text/plain": [
       "┌────────────┬─────────────────┬────────────────────────┬──────────────────┬─────────────────┐\n",
       "│ CustomerID │  CustomerName   │        Address         │       City       │ TotalOrderValue │\n",
       "│  varchar   │     varchar     │        varchar         │     varchar      │     int128      │\n",
       "├────────────┼─────────────────┼────────────────────────┼──────────────────┼─────────────────┤\n",
       "│ R2001      │ SharmaSudhanshu │ 12, MG Road, Sector 49 │ Noida            │         3000000 │\n",
       "│ R2002      │ KhannaKapil     │ 12/5, RR Marg, Bandra  │ Mumbai           │        60000000 │\n",
       "│ R2003      │ RajMegha        │ 12, T Nagar            │ Chennai          │          200000 │\n",
       "│ R2004      │ JohnDavid       │ 24, George Nagar       │ Hyderabad        │       200000000 │\n",
       "│ R2005      │ JamesWilliam    │ 6, Rao Street          │ Kolkotta         │         4200000 │\n",
       "│ R2006      │ SharmaRaj       │ 7, EM Road             │ Pune             │        10000000 │\n",
       "│ R2007      │ JacobDaniel     │ 3 c, Ram Marg          │ Patna            │       210000000 │\n",
       "│ R2008      │ JoseJardon      │ 3/5, Church Street     │ Bangalore        │        12000000 │\n",
       "│ R2009      │ RajMegha        │ 12, T Nagar            │ Kochi            │          300000 │\n",
       "│ R2010      │ JohnDavid       │ 24, George Nagar       │ Tiruvanandapuram │          400000 │\n",
       "│   ·        │     ·           │        ·               │      ·           │             ·   │\n",
       "│   ·        │     ·           │        ·               │      ·           │             ·   │\n",
       "│   ·        │     ·           │        ·               │      ·           │             ·   │\n",
       "│ R2045      │ GuptaReema      │ 1/14, BB Complex       │ Gandhinagar      │       210000000 │\n",
       "│ R2046      │ RaiRoshan       │ 12, Pacific Avenue     │ Patna            │          400000 │\n",
       "│ R2047      │ SharmaRadhika   │ Flat 12, Block 2       │ Bangalore        │        90000000 │\n",
       "│ R2048      │ GuptaReema      │ 1/14, BB Complex       │ Kochi            │         4000000 │\n",
       "│ R2049      │ SharmaSudhanshu │ 12, MG Road, Sector 49 │ Tiruvanandapuram │        60000000 │\n",
       "│ R2051      │ RajMegha        │ 12, T Nagar            │ Vijayawada       │          600000 │\n",
       "│ R2052      │ JohnDavid       │ 24, George Nagar       │ Bhuvaneshwar     │        60000000 │\n",
       "│ R2053      │ JamesWilliam    │ 6, Rao Street          │ Patna            │         7000000 │\n",
       "│ R2054      │ SharmaRaj       │ 7, EM Road             │ Jaipur           │          400000 │\n",
       "│ R2055      │ JacobDaniel     │ 3 c, Ram Marg          │ Shimla           │         3000000 │\n",
       "├────────────┴─────────────────┴────────────────────────┴──────────────────┴─────────────────┤\n",
       "│ 53 rows (20 shown)                                                               5 columns │\n",
       "└────────────────────────────────────────────────────────────────────────────────────────────┘"
      ]
     },
     "execution_count": 13,
     "metadata": {},
     "output_type": "execute_result"
    }
   ],
   "source": [
    "df5=con.sql(\"\"\" SELECT orders.CustomerID,\n",
    "    CONCAT(address.Lastname, '', address.Firstname) AS CustomerName,\n",
    "    address.Address,\n",
    "    address.City, \n",
    "    SUM(orders.OrderAmount) AS TotalOrderValue \n",
    "FROM orders\n",
    "LEFT JOIN address\n",
    "    ON orders.CustomerID = address.CustomerID\n",
    "GROUP BY orders.CustomerID, address.Lastname, address.Firstname, address.Address, address.City\n",
    "ORDER BY orders.CustomerID;\n",
    "\"\"\")\n",
    "df5"
   ]
  },
  {
   "cell_type": "markdown",
   "id": "af4dc113-5d0c-4538-824d-657d5cc45b6f",
   "metadata": {},
   "source": [
    "QUERY-6"
   ]
  },
  {
   "cell_type": "code",
   "execution_count": 14,
   "id": "fd2a939e-35b7-4152-9103-3f24ad952021",
   "metadata": {},
   "outputs": [
    {
     "data": {
      "text/plain": [
       "┌────────────┬────────────┬─────────────────────┐\n",
       "│ WeekNumber │ TotalSales │  PercentageChange   │\n",
       "│   int64    │   int128   │       double        │\n",
       "├────────────┼────────────┼─────────────────────┤\n",
       "│          5 │  290000000 │                NULL │\n",
       "│          6 │   80000000 │  -72.41379310344827 │\n",
       "│          7 │     200000 │              -99.75 │\n",
       "│          8 │    4000000 │              1900.0 │\n",
       "│          9 │  210000000 │              5150.0 │\n",
       "│         11 │     200000 │  -99.90476190476191 │\n",
       "│         13 │  153900000 │             76850.0 │\n",
       "│         14 │  152700000 │ -0.7797270955165692 │\n",
       "│         15 │  140000000 │  -8.316961362148003 │\n",
       "│         16 │   53400000 │ -61.857142857142854 │\n",
       "│         17 │  318800000 │  497.00374531835206 │\n",
       "│         18 │      20000 │  -99.99372647427855 │\n",
       "│         20 │     600000 │              2900.0 │\n",
       "│         21 │    6000000 │               900.0 │\n",
       "│         23 │  160000000 │   2566.666666666667 │\n",
       "│         25 │   21400000 │             -86.625 │\n",
       "│         28 │   60400000 │   182.2429906542056 │\n",
       "│         29 │    7000000 │  -88.41059602649007 │\n",
       "│         30 │   65000000 │   828.5714285714287 │\n",
       "│         32 │     400000 │  -99.38461538461539 │\n",
       "│         36 │     600000 │                50.0 │\n",
       "│         38 │    3000000 │               400.0 │\n",
       "│         48 │   50000000 │  1566.6666666666665 │\n",
       "├────────────┴────────────┴─────────────────────┤\n",
       "│ 23 rows                             3 columns │\n",
       "└───────────────────────────────────────────────┘"
      ]
     },
     "execution_count": 14,
     "metadata": {},
     "output_type": "execute_result"
    }
   ],
   "source": [
    "df6=con.sql(\"\"\"  \n",
    "SELECT \n",
    "    WeekNumber,TotalSales,\n",
    "    CASE\n",
    "        WHEN LAG(TotalSales, 1, 0) OVER (ORDER BY WeekNumber) = 0 THEN NULL\n",
    "        ELSE (TotalSales - LAG(TotalSales, 1, 0) OVER (ORDER BY WeekNumber)) / LAG(TotalSales, 1, 0) OVER (ORDER BY WeekNumber) * 100\n",
    "    END AS PercentageChange\n",
    "FROM   (SELECT WEEK(OrderDate) AS WeekNumber,\n",
    "        SUM(OrderAmount) AS TotalSales\n",
    "        FROM orders\n",
    "        GROUP BY WEEK(OrderDate)) AS  WeeklySales  \n",
    "ORDER BY WeekNumber;\n",
    "\"\"\")\n",
    "df6"
   ]
  },
  {
   "cell_type": "markdown",
   "id": "cd8ca5e6-0753-438f-8fb4-2b48e869e462",
   "metadata": {},
   "source": [
    "QUERY-7"
   ]
  },
  {
   "cell_type": "code",
   "execution_count": 15,
   "id": "7658e105-b738-4ee4-8e51-4ccda8a353d1",
   "metadata": {},
   "outputs": [
    {
     "data": {
      "text/plain": [
       "┌────────────┬────────────┬─────────────────────┐\n",
       "│ WeekNumber │ TotalSales │  PercentageChange   │\n",
       "│   int64    │   int128   │       double        │\n",
       "├────────────┼────────────┼─────────────────────┤\n",
       "│          5 │  290000000 │                NULL │\n",
       "│          6 │   80000000 │  -72.41379310344827 │\n",
       "│          7 │     200000 │              -99.75 │\n",
       "│          8 │    4000000 │              1900.0 │\n",
       "│          9 │  210000000 │              5150.0 │\n",
       "│         11 │     200000 │  -99.90476190476191 │\n",
       "│         13 │  153900000 │             76850.0 │\n",
       "│         14 │  152700000 │ -0.7797270955165692 │\n",
       "│         15 │  140000000 │  -8.316961362148003 │\n",
       "│         16 │   53400000 │ -61.857142857142854 │\n",
       "│         17 │  318800000 │  497.00374531835206 │\n",
       "│         18 │      20000 │  -99.99372647427855 │\n",
       "│         20 │     600000 │              2900.0 │\n",
       "│         21 │    6000000 │               900.0 │\n",
       "│         23 │  160000000 │   2566.666666666667 │\n",
       "│         25 │   21400000 │             -86.625 │\n",
       "│         28 │   60400000 │   182.2429906542056 │\n",
       "│         29 │    7000000 │  -88.41059602649007 │\n",
       "│         30 │   65000000 │   828.5714285714287 │\n",
       "│         32 │     400000 │  -99.38461538461539 │\n",
       "│         36 │     600000 │                50.0 │\n",
       "│         38 │    3000000 │               400.0 │\n",
       "│         48 │   50000000 │  1566.6666666666665 │\n",
       "├────────────┴────────────┴─────────────────────┤\n",
       "│ 23 rows                             3 columns │\n",
       "└───────────────────────────────────────────────┘"
      ]
     },
     "execution_count": 15,
     "metadata": {},
     "output_type": "execute_result"
    }
   ],
   "source": [
    "df7=con.sql(\"\"\"  \n",
    "SELECT  WeekNumber,TotalSales,\n",
    "    CASE\n",
    "        WHEN LAG(TotalSales, 1, 0) OVER (ORDER BY WeekNumber) = 0 THEN NULL\n",
    "        ELSE (TotalSales - LAG(TotalSales, 1, 0) OVER (ORDER BY WeekNumber)) / LAG(TotalSales, 1, 0) OVER (ORDER BY WeekNumber) * 100\n",
    "    END AS PercentageChange\n",
    "FROM  \n",
    "    (SELECT WEEK(OrderDate) AS WeekNumber,\n",
    "        SUM(OrderAmount) AS TotalSales\n",
    "    FROM orders\n",
    "    GROUP BY  WEEK(OrderDate)) AS  WeeklySales  \n",
    "ORDER BY  WeekNumber;\n",
    "\"\"\")\n",
    "df7"
   ]
  },
  {
   "cell_type": "markdown",
   "id": "129f3dff-527e-4724-944a-64ee3d265d80",
   "metadata": {},
   "source": [
    "QUERY-8"
   ]
  },
  {
   "cell_type": "code",
   "execution_count": 16,
   "id": "b2c62d6f-d05d-442d-acbc-dd9e6090f4d7",
   "metadata": {},
   "outputs": [
    {
     "data": {
      "text/plain": [
       "┌────────────┬─────────────┬────────────┬────────────────────┐\n",
       "│ WeekNumber │ TypeOfOrder │ TotalSales │  PercentageChange  │\n",
       "│   int64    │   varchar   │   int128   │       double       │\n",
       "├────────────┼─────────────┼────────────┼────────────────────┤\n",
       "│          5 │ Retail      │    4000000 │               NULL │\n",
       "│          7 │ Retail      │     200000 │              -95.0 │\n",
       "│          8 │ Retail      │    4000000 │             1900.0 │\n",
       "│         13 │ Retail      │    3700000 │               -7.5 │\n",
       "│         14 │ Retail      │     700000 │ -81.08108108108108 │\n",
       "│         16 │ Retail      │    1400000 │              100.0 │\n",
       "│         17 │ Retail      │    2800000 │              100.0 │\n",
       "│         18 │ Retail      │      20000 │ -99.28571428571429 │\n",
       "│         25 │ Retail      │     400000 │             1900.0 │\n",
       "│         36 │ Retail      │     600000 │               50.0 │\n",
       "├────────────┴─────────────┴────────────┴────────────────────┤\n",
       "│ 10 rows                                          4 columns │\n",
       "└────────────────────────────────────────────────────────────┘"
      ]
     },
     "execution_count": 16,
     "metadata": {},
     "output_type": "execute_result"
    }
   ],
   "source": [
    "df8=con.sql(\"\"\"  \n",
    "SELECT \n",
    "    WeekNumber,TypeOfOrder, TotalSales,\n",
    "    CASE\n",
    "        WHEN LAG(TotalSales, 1, 0) OVER (ORDER BY WeekNumber) = 0 THEN NULL\n",
    "        ELSE (TotalSales - LAG(TotalSales, 1, 0) OVER (ORDER BY WeekNumber)) / LAG(TotalSales, 1, 0) OVER (ORDER BY WeekNumber) * 100\n",
    "    END AS PercentageChange\n",
    "FROM \n",
    "    (SELECT WEEK(OrderDate) AS WeekNumber,TypeOfOrder,\n",
    "     SUM(OrderAmount) AS TotalSales\n",
    "    FROM orders\n",
    "\tWHERE orders.TypeOfOrder = 'Retail'\n",
    "    GROUP BY  WEEK(OrderDate),TypeofOrder  \n",
    "    ) AS  WeeklySales\n",
    "ORDER BY WeekNumber;\n",
    "\"\"\")\n",
    "df8"
   ]
  },
  {
   "cell_type": "markdown",
   "id": "a913d4c9-2de3-4f73-9be9-b31d406f96ec",
   "metadata": {},
   "source": [
    "QUERY-9"
   ]
  },
  {
   "cell_type": "code",
   "execution_count": 17,
   "id": "27acc890-ef0a-4aee-b682-967a8fc45fbd",
   "metadata": {},
   "outputs": [
    {
     "data": {
      "text/plain": [
       "┌────────────┬─────────────┬────────────┬─────────────────────┐\n",
       "│ WeekNumber │ TypeOfOrder │ TotalSales │  PercentageChange   │\n",
       "│   int64    │   varchar   │   int128   │       double        │\n",
       "├────────────┼─────────────┼────────────┼─────────────────────┤\n",
       "│          5 │ Wholesale   │   76000000 │                NULL │\n",
       "│         11 │ Wholesale   │     200000 │  -99.73684210526315 │\n",
       "│         13 │ Wholesale   │  150000000 │             74900.0 │\n",
       "│         14 │ Wholesale   │   62000000 │ -58.666666666666664 │\n",
       "│         15 │ Wholesale   │   60000000 │  -3.225806451612903 │\n",
       "│         16 │ Wholesale   │   48000000 │               -20.0 │\n",
       "│         17 │ Wholesale   │   90000000 │                87.5 │\n",
       "│         20 │ Wholesale   │     600000 │  -99.33333333333333 │\n",
       "│         28 │ Wholesale   │     400000 │  -33.33333333333333 │\n",
       "│         29 │ Wholesale   │    7000000 │              1650.0 │\n",
       "│         30 │ Wholesale   │    5000000 │  -28.57142857142857 │\n",
       "│         32 │ Wholesale   │     400000 │               -92.0 │\n",
       "│         38 │ Wholesale   │    3000000 │               650.0 │\n",
       "│         48 │ Wholesale   │   50000000 │  1566.6666666666665 │\n",
       "├────────────┴─────────────┴────────────┴─────────────────────┤\n",
       "│ 14 rows                                           4 columns │\n",
       "└─────────────────────────────────────────────────────────────┘"
      ]
     },
     "execution_count": 17,
     "metadata": {},
     "output_type": "execute_result"
    }
   ],
   "source": [
    "df9=con.sql(\"\"\"\n",
    "  \n",
    "SELECT \n",
    "    WeekNumber,TypeOfOrder,\n",
    "    TotalSales,\n",
    "    CASE\n",
    "        WHEN LAG(TotalSales, 1, 0) OVER (ORDER BY WeekNumber) = 0 THEN NULL\n",
    "        ELSE (TotalSales - LAG(TotalSales, 1, 0) OVER (ORDER BY WeekNumber)) / LAG(TotalSales, 1, 0) OVER (ORDER BY WeekNumber) * 100\n",
    "    END AS PercentageChange\n",
    "FROM \n",
    "    (SELECT \n",
    "        WEEK(OrderDate) AS WeekNumber,TypeOfOrder,\n",
    "        SUM(OrderAmount) AS TotalSales\n",
    "    FROM \n",
    "        orders\n",
    "\tWHERE orders.TypeOfOrder = 'Wholesale'\n",
    "    GROUP BY  WEEK(OrderDate),TypeOfOrder  \n",
    "    ) AS  WeeklySales\n",
    "ORDER BY \n",
    "    WeekNumber;\n",
    "\"\"\")\n",
    "df9"
   ]
  },
  {
   "cell_type": "markdown",
   "id": "67e382fd-2644-40ce-8b79-13d8f9e14f4a",
   "metadata": {},
   "source": [
    "QUERY-10"
   ]
  },
  {
   "cell_type": "code",
   "execution_count": 18,
   "id": "e825a6a4-9019-4c7c-ae71-dab740de0c02",
   "metadata": {},
   "outputs": [
    {
     "data": {
      "text/plain": [
       "┌──────────────┐\n",
       "│ DeliveryDate │\n",
       "│     date     │\n",
       "├──────────────┤\n",
       "│ 2022-05-04   │\n",
       "└──────────────┘"
      ]
     },
     "execution_count": 18,
     "metadata": {},
     "output_type": "execute_result"
    }
   ],
   "source": [
    "df10=con.sql(\"\"\"\n",
    "SELECT DeliveryDate FROM (\n",
    "SELECT DeliveryDate,\n",
    "sum(OrderAmount) from orders\n",
    "GROUP BY DeliveryDate\n",
    "ORDER BY sum(OrderAmount) ASC LIMIT 1)AS A\n",
    ";\"\"\")\n",
    "df10"
   ]
  },
  {
   "cell_type": "markdown",
   "id": "1f76d80d-7557-4c46-a122-22920faeffce",
   "metadata": {},
   "source": [
    "QUERY-11"
   ]
  },
  {
   "cell_type": "code",
   "execution_count": 19,
   "id": "772125a5-71aa-4b58-9761-579646fd3cd0",
   "metadata": {},
   "outputs": [
    {
     "data": {
      "text/plain": [
       "┌────────────┬────────────┬─────────────┐\n",
       "│ CustomerID │  FullName  │ OrderAmount │\n",
       "│  varchar   │  varchar   │   int128    │\n",
       "├────────────┼────────────┼─────────────┤\n",
       "│ R2037      │ GuptaReema │   160000000 │\n",
       "└────────────┴────────────┴─────────────┘"
      ]
     },
     "execution_count": 19,
     "metadata": {},
     "output_type": "execute_result"
    }
   ],
   "source": [
    "df11=con.sql(\"\"\"\n",
    "SELECT CustomerID,FullName,OrderAmount FROM\n",
    "\t\t(SELECT orders.CustomerID,CONCAT(address.LastName,'',address.FirstName) AS FullName,\n",
    "        sum(OrderAmount) AS OrderAmount,\n",
    "        month(OrderDate) AS MonthNumber,\n",
    "        (Rank() OVER (ORDER BY sum(OrderAmount) DESC)) AS Ranks\n",
    "\t\tFROM orders\n",
    "        LEFT JOIN address\n",
    "        ON orders.CustomerID=address.CustomerID\n",
    "\t\tWHERE month(OrderDate) = 6\n",
    "\t\tGROUP BY orders.CustomerID,month(OrderDate),FullName) AS A\n",
    "WHERE A.Ranks =1;\"\"\")\n",
    "df11"
   ]
  },
  {
   "cell_type": "markdown",
   "id": "7627b2f6-8b87-4c6a-aa9b-111fa88393a2",
   "metadata": {},
   "source": [
    "QUERY-12"
   ]
  },
  {
   "cell_type": "code",
   "execution_count": 20,
   "id": "0ef40b4b-1b72-43dd-87bd-8011f553f2e4",
   "metadata": {},
   "outputs": [
    {
     "data": {
      "text/plain": [
       "┌─────────────┬─────────────┐\n",
       "│ TypeOfOrder │ OrderAmount │\n",
       "│   varchar   │   int128    │\n",
       "├─────────────┼─────────────┤\n",
       "│ Overseas    │   181000000 │\n",
       "└─────────────┴─────────────┘"
      ]
     },
     "execution_count": 20,
     "metadata": {},
     "output_type": "execute_result"
    }
   ],
   "source": [
    "df12=con.sql(\"\"\"\n",
    "SELECT TypeOfOrder,OrderAmount FROM\n",
    "\t\t(SELECT orders.TypeOfOrder,\n",
    "        sum(OrderAmount) AS OrderAmount,\n",
    "        month(OrderDate) AS MonthNumber,\n",
    "        (Rank() OVER (ORDER BY sum(OrderAmount) DESC)) AS Ranks\n",
    "\t\tFROM orders\n",
    "\t\tWHERE month(OrderDate) = 6\n",
    "\t\tGROUP BY month(OrderDate), orders.TypeOfOrder) AS A\n",
    "WHERE A.Ranks =1;\n",
    "\"\"\")\n",
    "df12"
   ]
  },
  {
   "cell_type": "code",
   "execution_count": 22,
   "id": "44750d9e-246e-4240-bfb5-b23fec7a887e",
   "metadata": {},
   "outputs": [],
   "source": [
    "con.close()"
   ]
  }
 ],
 "metadata": {
  "kernelspec": {
   "display_name": "Python 3 (ipykernel)",
   "language": "python",
   "name": "python3"
  },
  "language_info": {
   "codemirror_mode": {
    "name": "ipython",
    "version": 3
   },
   "file_extension": ".py",
   "mimetype": "text/x-python",
   "name": "python",
   "nbconvert_exporter": "python",
   "pygments_lexer": "ipython3",
   "version": "3.11.5"
  }
 },
 "nbformat": 4,
 "nbformat_minor": 5
}
